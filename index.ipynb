{
 "cells": [
  {
   "cell_type": "markdown",
   "metadata": {},
   "source": [
    "# Concert Tracker\n",
    "\n",
    "We are going to build to help users keep track of all the concerts they have attended.  There will be many models, including both one-to-many and many-to-many relationships.  This will be challanging, but doable given all our practice in the previous sections.  Whenever necessary, refer back to the previous labs to review the syntax for creating one-to-many and many-to-many relationships.\n",
    "\n",
    "## Objectives\n",
    "\n",
    "1.  Review mapping objects to a database with the SQLAlchemy ORM\n",
    "2.  Become comfortable writing different object relationships using SQLAlchemy\n",
    "3.  Practice pulling data from a database using SQLAlechemy query objects\n"
   ]
  },
  {
   "cell_type": "markdown",
   "metadata": {},
   "source": [
    "## Instructions\n",
    "\n",
    "Our app will have eight models in total.  For this reason, we broke the `models.py` we are used to working with into smaller and easier to understand chunks.  Each of the eight models will have its own file."
   ]
  },
  {
   "cell_type": "markdown",
   "metadata": {},
   "source": [
    "#### Note:\n",
    "Since we broke up the models into their own files, we have also split the declarative base into its own file, `base.py`.  We will need to import the `Base` at the top of each of our model files.\n",
    "\n",
    "> ```python\n",
    "from base import Base\n",
    "```"
   ]
  },
  {
   "cell_type": "markdown",
   "metadata": {},
   "source": [
    "Start by writing the classes for each of the eight models.  It probably makes more sense to begin with the more conventional models before building out the join tables.  The models, their columns, and their relationships are described below:\n",
    "\n",
    "* **`User`**\n",
    "    - id\n",
    "    - name\n",
    "    - has many Shows\n",
    "    \n",
    "* **`Band`**\n",
    "    - id\n",
    "    - name\n",
    "    - has many Shows\n",
    "\n",
    "* **`Show`**\n",
    "    - id\n",
    "    - date\n",
    "    - belongs to a Band\n",
    "    - belongs to a Venue\n",
    "    - has many Songs\n",
    "    - has many Users\n",
    "    \n",
    "* **`City`**\n",
    "    - id \n",
    "    - name\n",
    "    - has many Venues\n",
    "    \n",
    "* **`Venue`**\n",
    "    - id\n",
    "    - name\n",
    "    - capacity\n",
    "    - belongs to a City\n",
    "    - has many Shows\n",
    "    \n",
    "* **`Song`**\n",
    "    - id\n",
    "    - name\n",
    "    - has many Shows\n",
    "    \n",
    "* **`UserShow`**\n",
    "    - sets up the many-to-many between User and Show\n",
    "    \n",
    "* **`ShowSong`**\n",
    "    - id\n",
    "    - length (in seconds)\n",
    "    - notes (recall the datatype for long text?)\n",
    "    - sets up the many-to-many between Show and Song"
   ]
  },
  {
   "cell_type": "markdown",
   "metadata": {},
   "source": [
    "### Queries\n",
    "\n",
    "`count_user_ids`\n",
    "\n",
    "Query the session and use the count aggregate function to return the total number of users.\n",
    "\n",
    "`return_band_name_and_total_shows_histogram`\n",
    "\n",
    "Write a query that will return an object containing a histogram for each band and their total number of shows played."
   ]
  },
  {
   "cell_type": "markdown",
   "metadata": {},
   "source": [
    "### Instance methods\n",
    "\n",
    "We can also write customized instance methods for each class to pull useful information about each instance.  Write two instance methods for the `User` class.\n",
    "\n",
    "`total_shows`\n",
    "\n",
    "Write an instance method that returns a User's total shows attended.  When we write, `User.total_shows` we should see this number returned.\n",
    "\n",
    "\n",
    "#### Challenge\n",
    "`first_show`\n",
    "\n",
    "Write an instance method that will return a User's first show in the following format:\n",
    "> `'Band Name - MM/DD/YYYY - Venue Name, City Name'`\n",
    "\n",
    "You will need to [sort each concert by its date](https://stackoverflow.com/questions/5055812/sort-python-list-of-objects-by-date) and [convert the date object into a more readable format](https://stackoverflow.com/questions/10624937/convert-datetime-object-to-a-string-of-date-only-in-python).\n",
    "\n"
   ]
  }
 ],
 "metadata": {
  "kernelspec": {
   "display_name": "Python 3",
   "language": "python",
   "name": "python3"
  },
  "language_info": {
   "codemirror_mode": {
    "name": "ipython",
    "version": 3
   },
   "file_extension": ".py",
   "mimetype": "text/x-python",
   "name": "python",
   "nbconvert_exporter": "python",
   "pygments_lexer": "ipython3",
   "version": "3.6.6"
  }
 },
 "nbformat": 4,
 "nbformat_minor": 2
}
